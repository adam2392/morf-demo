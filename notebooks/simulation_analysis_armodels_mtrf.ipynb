{
 "cells": [
  {
   "cell_type": "markdown",
   "id": "metropolitan-murder",
   "metadata": {},
   "source": [
    "# Simulation with AR data"
   ]
  },
  {
   "cell_type": "code",
   "execution_count": 1,
   "id": "minus-egyptian",
   "metadata": {},
   "outputs": [],
   "source": [
    "%load_ext lab_black"
   ]
  },
  {
   "cell_type": "code",
   "execution_count": 2,
   "id": "protective-target",
   "metadata": {},
   "outputs": [
    {
     "name": "stderr",
     "output_type": "stream",
     "text": [
      "ERROR:root:Cannot parse: 1:4: cd ../../\n",
      "Traceback (most recent call last):\n",
      "  File \"/Users/adam2392/opt/miniconda3/envs/eztrack/lib/python3.8/site-packages/lab_black.py\", line 218, in format_cell\n",
      "    formatted_code = _format_code(cell)\n",
      "  File \"/Users/adam2392/opt/miniconda3/envs/eztrack/lib/python3.8/site-packages/lab_black.py\", line 29, in _format_code\n",
      "    return format_str(src_contents=code, mode=FileMode())\n",
      "  File \"/Users/adam2392/opt/miniconda3/envs/eztrack/lib/python3.8/site-packages/black.py\", line 725, in format_str\n",
      "    src_node = lib2to3_parse(src_contents.lstrip(), mode.target_versions)\n",
      "  File \"/Users/adam2392/opt/miniconda3/envs/eztrack/lib/python3.8/site-packages/black.py\", line 836, in lib2to3_parse\n",
      "    raise exc from None\n",
      "black.InvalidInput: Cannot parse: 1:4: cd ../../\n"
     ]
    },
    {
     "name": "stdout",
     "output_type": "stream",
     "text": [
      "/Users/adam2392/Documents/motor-decoding\n"
     ]
    }
   ],
   "source": [
    "cd ../../"
   ]
  },
  {
   "cell_type": "code",
   "execution_count": 3,
   "id": "registered-classic",
   "metadata": {},
   "outputs": [
    {
     "name": "stdout",
     "output_type": "stream",
     "text": [
      "3.8.5 | packaged by conda-forge | (default, Jul 22 2020, 17:24:51) \n",
      "[Clang 10.0.0 ]\n"
     ]
    }
   ],
   "source": [
    "import pandas as pd\n",
    "from scipy import stats\n",
    "import numpy as np\n",
    "\n",
    "import matplotlib\n",
    "import matplotlib.pyplot as plt\n",
    "from matplotlib.colors import ListedColormap\n",
    "\n",
    "%matplotlib inline\n",
    "import seaborn as sns\n",
    "\n",
    "import pickle\n",
    "import time\n",
    "from tqdm import tqdm\n",
    "\n",
    "from sklearn.model_selection import train_test_split\n",
    "\n",
    "# comparative classifiers\n",
    "from sklearn.linear_model import LogisticRegression\n",
    "from sklearn.svm import LinearSVC\n",
    "from sklearn.svm import SVC\n",
    "from sklearn.ensemble import RandomForestClassifier\n",
    "from sklearn.neural_network import MLPClassifier\n",
    "from sklearn.neighbors import KNeighborsClassifier\n",
    "\n",
    "# evaluation classifier\n",
    "from rerf.rerfClassifier import rerfClassifier\n",
    "\n",
    "import sys\n",
    "\n",
    "print(sys.version)\n",
    "import warnings\n",
    "\n",
    "warnings.simplefilter(\"ignore\")\n",
    "\n",
    "%matplotlib inline\n",
    "%load_ext autoreload\n",
    "%autoreload 2"
   ]
  },
  {
   "cell_type": "code",
   "execution_count": 4,
   "id": "temporal-trustee",
   "metadata": {},
   "outputs": [],
   "source": [
    "seed = 12345"
   ]
  },
  {
   "cell_type": "code",
   "execution_count": 5,
   "id": "editorial-power",
   "metadata": {},
   "outputs": [],
   "source": [
    "# length of data sequence\n",
    "ns = np.array([50, 100, 200, 400, 1000])\n",
    "\n",
    "# assume you can train on half trials and\n",
    "# test on half the trials\n",
    "test_size = 0.5\n",
    "\n",
    "# number of samples\n",
    "n_samples = 100\n",
    "\n",
    "# simulated data parameters\n",
    "n_trials = 100\n",
    "\n",
    "# dimensionality of data and noise\n",
    "data_dim = 3\n",
    "noise_dim = 3\n",
    "n_chs = data_dim + noise_dim\n",
    "\n",
    "# data mean vector\n",
    "mu = np.zeros((data_dim,))\n",
    "\n",
    "# permutation strategy\n",
    "permutation_strategy = \"alternate\""
   ]
  },
  {
   "cell_type": "markdown",
   "id": "complicated-inspector",
   "metadata": {},
   "source": [
    "# Simulation of AR(1) Data"
   ]
  },
  {
   "cell_type": "code",
   "execution_count": 4,
   "id": "hydraulic-given",
   "metadata": {},
   "outputs": [],
   "source": [
    "def generate_ar_samples(cls=0, n_steps=1000, k=1):\n",
    "    \"\"\"\n",
    "    Generate multivariate time-series for 3 channsl of length n_samples\n",
    "    from a vector AR(1) model. Noise channels are interleaved between\n",
    "    the vector sequences.\n",
    "\n",
    "    VAR(1) Model: \n",
    "    y(t+1) = Ay(t) + Bu(t) + err(t)\n",
    "\n",
    "    For now, we ignore exogenous variables, i.e. B = 0, and assume\n",
    "    uncorrelated errors.\n",
    "    \"\"\"\n",
    "\n",
    "    n_chs = 3\n",
    "    n_noise_chs = 3\n",
    "\n",
    "    if cls == 0:\n",
    "        A = np.array([[\n",
    "            [  0.5,  0.5*k, 0.7*k],\n",
    "            [0.3*k, -0.8, -0.15*k],\n",
    "            [0.5*k,  0.2*k, -0.6]\n",
    "        ]])\n",
    "    elif cls == 1:\n",
    "        A = np.array([[\n",
    "            [0.5,    0,    0],\n",
    "            [  0, -0.8,    0],\n",
    "            [  0,    0, -0.6]\n",
    "        ]])\n",
    "\n",
    "    B = np.zeros((n_chs, n_chs))\n",
    "\n",
    "    A_eigvals = np.linalg.eigvals(A)\n",
    "    A_spec_rad = np.max(np.abs(A_eigvals))\n",
    "\n",
    "    # TODO: Figure out how to best set error relative to A matrix\n",
    "    err_cov = 0.05 * A_spec_rad * np.identity(n_chs)\n",
    "\n",
    "    var = VARProcess(A, B, err_cov, _params_info={'k_trend': 0})\n",
    "    y = var.simulate_var(steps=n_steps).T\n",
    "    assert y.shape == (n_chs, n_steps)\n",
    "\n",
    "    y_noise = np.random.random((n_noise_chs, n_steps))\n",
    "\n",
    "    y = np.vstack((\n",
    "        y[0,:], y_noise[0,:],\n",
    "        y[1,:], y_noise[1,:],\n",
    "        y[2,:], y_noise[2,:]\n",
    "    ))\n",
    "    \n",
    "    return y"
   ]
  },
  {
   "cell_type": "code",
   "execution_count": null,
   "id": "raised-discovery",
   "metadata": {},
   "outputs": [],
   "source": []
  }
 ],
 "metadata": {
  "kernelspec": {
   "display_name": "eztrack",
   "language": "python",
   "name": "eztrack"
  },
  "language_info": {
   "codemirror_mode": {
    "name": "ipython",
    "version": 3
   },
   "file_extension": ".py",
   "mimetype": "text/x-python",
   "name": "python",
   "nbconvert_exporter": "python",
   "pygments_lexer": "ipython3",
   "version": "3.8.5"
  }
 },
 "nbformat": 4,
 "nbformat_minor": 5
}
